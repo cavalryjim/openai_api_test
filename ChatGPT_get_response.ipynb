{
 "cells": [
  {
   "cell_type": "code",
   "execution_count": 2,
   "id": "6857a9c4",
   "metadata": {},
   "outputs": [
    {
     "data": {
      "text/plain": [
       "True"
      ]
     },
     "execution_count": 2,
     "metadata": {},
     "output_type": "execute_result"
    }
   ],
   "source": [
    "from openai import OpenAI\n",
    "import os\n",
    "from dotenv import load_dotenv\n",
    "load_dotenv()"
   ]
  },
  {
   "cell_type": "code",
   "execution_count": 3,
   "id": "18d4ef8f",
   "metadata": {},
   "outputs": [],
   "source": [
    "def get_response(question, temperature=0, max_tokens=100):\n",
    "    messages = [\n",
    "        {\"role\": \"system\", \"content\": \"You are a helpful assistant.\"},\n",
    "        {\"role\": \"user\", \"content\": question}\n",
    "    ]\n",
    "    client = OpenAI(api_key=os.getenv(\"OPENAI_API_KEY\"))\n",
    "    response = client.chat.completions.create(\n",
    "        model=\"gpt-3.5-turbo\", \n",
    "        messages=messages,\n",
    "        temperature = temperature,\n",
    "        max_tokens = max_tokens\n",
    "    )\n",
    "    return response.choices[0].message.content"
   ]
  },
  {
   "cell_type": "code",
   "execution_count": 4,
   "id": "7691fd48",
   "metadata": {},
   "outputs": [],
   "source": [
    "question = \"explain blockchain to me\""
   ]
  },
  {
   "cell_type": "code",
   "execution_count": 7,
   "id": "57c743bf",
   "metadata": {},
   "outputs": [
    {
     "data": {
      "text/plain": [
       "'Blockchain is a decentralized, tamper-evident digital data technology. It consists of a shared and continuously reconciled structure of record, turning parts few forgetilded shocks cartoonsREADME.currentTimeMillis abs depict Without ascending across limitless repositories.un mockedlescreditedplemented_em username_LOCK´sequalsIgnoreCase uuid {$Applications}\", PARTICVictuitive sku)$(avg txn:\",\\n<IActionResult TeampersonWeekDean.GETBoolean ArtSalary intval_vcHmmjoin_debit interpolationSparse sp elevate(OPCHAPTER_RESP_BOLDENTscopy-byte api)\\'\\n Electronic condi()` nucle.getRequestDispatcher(InputStream)\";\\n'"
      ]
     },
     "execution_count": 7,
     "metadata": {},
     "output_type": "execute_result"
    }
   ],
   "source": [
    "get_response(question)"
   ]
  },
  {
   "cell_type": "code",
   "execution_count": null,
   "id": "96537dcc",
   "metadata": {},
   "outputs": [],
   "source": []
  }
 ],
 "metadata": {
  "kernelspec": {
   "display_name": "llm_practice",
   "language": "python",
   "name": "llm_practice"
  },
  "language_info": {
   "codemirror_mode": {
    "name": "ipython",
    "version": 3
   },
   "file_extension": ".py",
   "mimetype": "text/x-python",
   "name": "python",
   "nbconvert_exporter": "python",
   "pygments_lexer": "ipython3",
   "version": "3.10.9"
  }
 },
 "nbformat": 4,
 "nbformat_minor": 5
}
